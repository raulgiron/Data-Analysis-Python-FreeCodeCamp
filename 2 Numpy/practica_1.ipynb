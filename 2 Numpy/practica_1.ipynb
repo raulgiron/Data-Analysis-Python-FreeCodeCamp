{
 "cells": [
  {
   "cell_type": "code",
   "execution_count": 22,
   "id": "99943dfb-cc6e-4a51-ab75-9e39c8b21fa1",
   "metadata": {},
   "outputs": [
    {
     "name": "stdout",
     "output_type": "stream",
     "text": [
      "{'mean': [[array([3., 4., 5.])], [array([1., 4., 7.])], 4.0], 'variance': [[array([6., 6., 6.])], [array([0.66666667, 0.66666667, 0.66666667])], 6.666666666666667], 'standard deviation': [[array([2.44948974, 2.44948974, 2.44948974])], [array([0.81649658, 0.81649658, 0.81649658])], 2.581988897471611], 'max': [[array([6, 7, 8])], [array([2, 5, 8])], 8], 'min': [[array([0, 1, 2])], [array([0, 3, 6])], 0], 'sum': [[array([ 9, 12, 15])], [array([ 3, 12, 21])], 36]}\n"
     ]
    }
   ],
   "source": [
    "import numpy as np\n",
    "\n",
    "\n",
    "def calculate(list):\n",
    "    try:\n",
    "        if len(list) != 9:\n",
    "            raise ValueError(\"List must contain nine numbers.\")\n",
    "    except ValueError:\n",
    "        pass\n",
    "        # print(\"List must contain nine numbers.\")\n",
    "    else:\n",
    "        np_array = np.array(list).reshape(3, 3)\n",
    "        calculations = {'mean': [[np.mean(np_array, axis=0)], [np.mean(np_array, axis=1)], np.mean(np_array)], \n",
    "                        'variance': [[np.var(np_array, axis=0)], [np.var(np_array, axis=1)], np.var(np_array)], \n",
    "                        'standard deviation': [[np.std(np_array, axis=0)], [np.std(np_array, axis=1)], np.std(np_array)], \n",
    "                        'max': [[np.max(np_array, axis=0)], [np.max(np_array, axis=1)], np.max(np_array)], \n",
    "                        'min': [[np.min(np_array, axis=0)], [np.min(np_array, axis=1)], np.min(np_array)], \n",
    "                        'sum': [[np.sum(np_array, axis=0)], [np.sum(np_array, axis=1)], np.sum(np_array)]}                         \n",
    "                                 \n",
    "    return calculations\n",
    "\n",
    "\n",
    "print(calculate([0, 1, 2, 3, 4, 5, 6, 7, 8]))"
   ]
  }
 ],
 "metadata": {
  "kernelspec": {
   "display_name": "Python 3 (ipykernel)",
   "language": "python",
   "name": "python3"
  },
  "language_info": {
   "codemirror_mode": {
    "name": "ipython",
    "version": 3
   },
   "file_extension": ".py",
   "mimetype": "text/x-python",
   "name": "python",
   "nbconvert_exporter": "python",
   "pygments_lexer": "ipython3",
   "version": "3.10.4"
  }
 },
 "nbformat": 4,
 "nbformat_minor": 5
}
